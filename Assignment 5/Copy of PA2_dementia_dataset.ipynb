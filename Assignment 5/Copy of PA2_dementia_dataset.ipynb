{
 "cells": [
  {
   "cell_type": "markdown",
   "metadata": {
    "id": "8l5JIHknZnEI"
   },
   "source": [
    "Classify if Demented, Nondemented"
   ]
  },
  {
   "cell_type": "code",
   "execution_count": null,
   "metadata": {
    "id": "Gxrjty74oSAl"
   },
   "outputs": [],
   "source": [
    "#set up a ColumnTransformer with StandardScaler for numerical features and OneHotEncoder for categorical features.\n",
    "#set up and training a LinearRegression model using scikit-learn, including data preprocessing steps within a Pipeline.\n",
    "#implement polynomial regression\n",
    "#perform hyperparameter tuning for a polynomial regression model\n",
    "#evaluate the performance of a regression model on test data\n",
    "#use OneHotEncoder with handle_unknown='ignore' within a preprocessing pipeline to handle unseen categories during model training and evaluation\n",
    "#set up and execute cross_val_score or GridSearchCV to perform cross-validation"
   ]
  },
  {
   "cell_type": "code",
   "execution_count": null,
   "metadata": {
    "id": "NfzAeQZVwSZq"
   },
   "outputs": [],
   "source": [
    "import pandas as pd\n",
    "from sklearn.model_selection import train_test_split, GridSearchCV, cross_val_score\n",
    "from sklearn.preprocessing import StandardScaler, OneHotEncoder, PolynomialFeatures\n",
    "from sklearn.compose import ColumnTransformer\n",
    "from sklearn.pipeline import Pipeline\n",
    "from sklearn.linear_model import LinearRegression\n",
    "from sklearn.metrics import mean_squared_error, r2_score\n",
    "\n",
    "# Step 1: Load Dataset\n",
    "df = pd.read_csv('//content/dementia.csv')\n",
    "print(df.head())"
   ]
  },
  {
   "cell_type": "code",
   "execution_count": null,
   "metadata": {
    "id": "eZ5sJ7nw8yJ5"
   },
   "outputs": [],
   "source": [
    "print(df.info())\n",
    "     "
   ]
  },
  {
   "cell_type": "code",
   "execution_count": null,
   "metadata": {
    "id": "u1zknE1a3rnk"
   },
   "outputs": [],
   "source": [
    "# After seeing column names, suppose the target column is 'Group' or 'MMSE' or similar (you'll confirm it)\n",
    "target = 'Group'  # Or 'MMSE', 'CDR', or another appropriate column from your DataFrame\n",
    "\n",
    "# Separate features\n",
    "features = df.drop(columns=[target])\n",
    "\n",
    "# Numerical & Categorical feature detection\n",
    "numerical_features = features.select_dtypes(include=['int64', 'float64']).columns.tolist()\n",
    "categorical_features = features.select_dtypes(include=['object']).columns.tolist()\n",
    "\n",
    "print(f\"Numerical: {numerical_features}\")\n",
    "print(f\"Categorical: {categorical_features}\")\n"
   ]
  },
  {
   "cell_type": "code",
   "execution_count": null,
   "metadata": {
    "id": "WJ66eKWt31A8"
   },
   "outputs": [],
   "source": [
    "\n",
    "# Step 4: Train-Test Split\n",
    "X_train, X_test, y_train, y_test = train_test_split(\n",
    "    df.drop(columns=[target]), df[target], test_size=0.2, random_state=42\n",
    ")"
   ]
  },
  {
   "cell_type": "code",
   "execution_count": null,
   "metadata": {
    "id": "z-KNKPtB6scR"
   },
   "outputs": [],
   "source": [
    "\n",
    "# Step 5: Preprocessing Pipelines\n",
    "numeric_transformer = Pipeline(steps=[\n",
    "    ('scaler', StandardScaler())\n",
    "])\n",
    "\n",
    "categorical_transformer = Pipeline(steps=[\n",
    "    ('onehot', OneHotEncoder(handle_unknown='ignore'))\n",
    "])\n",
    "\n",
    "preprocessor = ColumnTransformer(\n",
    "    transformers=[\n",
    "        ('num', numeric_transformer, numerical_features),\n",
    "        ('cat', categorical_transformer, categorical_features)\n",
    "    ])\n",
    "\n",
    "\n",
    "# Step 6: Linear Regression Pipeline\n",
    "linreg_pipeline = Pipeline(steps=[\n",
    "    ('preprocessor', preprocessor),\n",
    "    ('regressor', LinearRegression())\n",
    "])\n",
    "\n"
   ]
  },
  {
   "cell_type": "code",
   "execution_count": null,
   "metadata": {
    "id": "RneJiWHD89Ho"
   },
   "outputs": [],
   "source": [
    "\n",
    "\n",
    "from sklearn.impute import SimpleImputer\n",
    "\n",
    "# Numerical Pipeline\n",
    "numeric_transformer = Pipeline(steps=[\n",
    "    ('imputer', SimpleImputer(strategy='mean')),   # Fill NaNs with mean\n",
    "    ('scaler', StandardScaler())\n",
    "])\n",
    "\n",
    "# Categorical Pipeline\n",
    "categorical_transformer = Pipeline(steps=[\n",
    "    ('imputer', SimpleImputer(strategy='most_frequent')),  # Fill NaNs with mode\n",
    "    ('onehot', OneHotEncoder(handle_unknown='ignore'))\n",
    "])\n",
    "\n",
    "# Column Transformer\n",
    "preprocessor = ColumnTransformer(\n",
    "    transformers=[\n",
    "        ('num', numeric_transformer, numerical_features),\n",
    "        ('cat', categorical_transformer, categorical_features)\n",
    "    ])"
   ]
  },
  {
   "cell_type": "code",
   "execution_count": null,
   "metadata": {
    "id": "cTysq37D-9Lk"
   },
   "outputs": [],
   "source": [
    "\n",
    "print(y_train.unique())\n"
   ]
  },
  {
   "cell_type": "markdown",
   "metadata": {
    "id": "8pXKe9uLZekN"
   },
   "source": []
  }
 ],
 "metadata": {
  "colab": {
   "provenance": [
    {
     "file_id": "1YaHlKw0U_mzp4KTszVUd8lLtEwqCq-6v",
     "timestamp": 1742190086510
    },
    {
     "file_id": "1066dqyy8Tml6_HaO7WUSgW1j7b0tsVWy",
     "timestamp": 1713935971369
    }
   ]
  },
  "kernelspec": {
   "display_name": "Python 3",
   "name": "python3"
  },
  "language_info": {
   "codemirror_mode": {
    "name": "ipython",
    "version": 3
   },
   "file_extension": ".py",
   "mimetype": "text/x-python",
   "name": "python",
   "nbconvert_exporter": "python",
   "pygments_lexer": "ipython3",
   "version": "3.13.3"
  }
 },
 "nbformat": 4,
 "nbformat_minor": 0
}
